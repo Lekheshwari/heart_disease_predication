{
 "cells": [
  {
   "cell_type": "markdown",
   "id": "4911fa4c",
   "metadata": {},
   "source": [
    "### import Linbraries"
   ]
  },
  {
   "cell_type": "code",
   "execution_count": 689,
   "id": "d15f3e21",
   "metadata": {},
   "outputs": [],
   "source": [
    "import numpy as np \n",
    "import pandas as pd \n",
    "\n",
    "\n",
    "from sklearn.model_selection import train_test_split\n",
    "from sklearn.preprocessing import OneHotEncoder\n",
    "from sklearn.compose import make_column_transformer\n",
    "from sklearn.pipeline import make_pipeline\n",
    "from  imblearn.under_sampling import RandomUnderSampler\n",
    "import seaborn as sns\n",
    "import matplotlib.pyplot as plt\n",
    "import plotly.express as px\n",
    "import os \n",
    "import re\n",
    "import json\n",
    "import pickle\n",
    "from sklearn.feature_selection import chi2\n",
    "from sklearn.model_selection import GridSearchCV\n",
    "## Feature Selection \n",
    "\n",
    "\n",
    "## evalution matrix \n",
    "from sklearn.metrics import confusion_matrix, accuracy_score, precision_score, recall_score, classification_report\n",
    "from sklearn.model_selection import RepeatedStratifiedKFold\n",
    "\n",
    "\n",
    "# ALgorithms \n",
    "from sklearn.linear_model import LogisticRegression\n",
    "from sklearn.tree import DecisionTreeClassifier\n",
    "from sklearn.ensemble import AdaBoostClassifier,RandomForestClassifier,GradientBoostingClassifier\n",
    "import xgboost\n",
    "\n",
    "\n",
    "\n",
    "# warnings\n",
    "import warnings\n",
    "warnings.filterwarnings('ignore')"
   ]
  },
  {
   "cell_type": "markdown",
   "id": "b954403a",
   "metadata": {},
   "source": [
    "### Problem Statment : \n",
    "\n",
    "using following feature we predict Patient having heart dieseas or not\n",
    "Target:\n",
    "1.HeartDisease\n",
    "Respondents that have ever reported having coronary heart disease (CHD) or myocardial infarction (MI)\n",
    "\n",
    "Independent Features:\n",
    "2.BMI\n",
    "Body Mass Index (BMI)\n",
    "\n",
    "3.Smoking\n",
    "Have you smoked at least 100 cigarettes in your entire life? [Note: 5 packs = 100 cigarettes]\n",
    "\n",
    "4.AlcoholDrinking\n",
    "Heavy drinkers (adult men having more than 14 drinks per week and adult women having more than 7 drinks per week\n",
    "\n",
    "5.Stroke\n",
    "(Ever told) (you had) a stroke?\n",
    "\n",
    "6.PhysicalHealth\n",
    "Now thinking about your physical health, which includes physical illness and injury, for how many days during the past 30 days was your physical health not good? (0-30 days)\n",
    "\n",
    "7.MentalHealth\n",
    "Thinking about your mental health, for how many days during the past 30 days was your mental health not good? (0-30 days)\n",
    "\n",
    "8.DiffWalking\n",
    "Do you have serious difficulty walking or climbing stairs?\n",
    "\n",
    "9.Sex\n",
    "Are you male or female?\n",
    "\n",
    "10.AgeCategory\n",
    "Fourteen-level age category\n",
    "\n",
    "11.Race\n",
    "Imputed race/ethnicity value\n",
    "\n",
    "12.Diabetic\n",
    "(Ever told) (you had) diabetes?\n",
    "\n",
    "13.PhysicalActivity\n",
    "Adults who reported doing physical activity or exercise during the past 30 days other than their regular job\n",
    "\n",
    "14.GenHealth\n",
    "Would you say that in general your health is...\n",
    "\n",
    "15.SleepTime\n",
    "On average, how many hours of sleep do you get in a 24-hour period?\n",
    "\n",
    "16.Asthma\n",
    "(Ever told) (you had) asthma?\n",
    "\n",
    "17.KidneyDisease\n",
    "Not including kidney stones, bladder infection or incontinence, were you ever told you had kidney disease?\n",
    "\n",
    "18.SkinCancer\n",
    "(Ever told) (you had) skin cancer?"
   ]
  },
  {
   "cell_type": "markdown",
   "id": "f1949b91",
   "metadata": {},
   "source": [
    "### Data Gathering "
   ]
  },
  {
   "cell_type": "code",
   "execution_count": 690,
   "id": "460b70c7",
   "metadata": {},
   "outputs": [
    {
     "data": {
      "text/plain": [
       "'E:\\\\project1\\\\done_project\\\\heart_disease\\\\csv_file\\\\heart_2020_cleaned.csv'"
      ]
     },
     "execution_count": 690,
     "metadata": {},
     "output_type": "execute_result"
    }
   ],
   "source": [
    "file_path= os.path.join(os.getcwd(),r'csv_file\\heart_2020_cleaned.csv')\n",
    "file_path"
   ]
  },
  {
   "cell_type": "code",
   "execution_count": 691,
   "id": "4c60561d",
   "metadata": {},
   "outputs": [
    {
     "data": {
      "text/html": [
       "<div>\n",
       "<style scoped>\n",
       "    .dataframe tbody tr th:only-of-type {\n",
       "        vertical-align: middle;\n",
       "    }\n",
       "\n",
       "    .dataframe tbody tr th {\n",
       "        vertical-align: top;\n",
       "    }\n",
       "\n",
       "    .dataframe thead th {\n",
       "        text-align: right;\n",
       "    }\n",
       "</style>\n",
       "<table border=\"1\" class=\"dataframe\">\n",
       "  <thead>\n",
       "    <tr style=\"text-align: right;\">\n",
       "      <th></th>\n",
       "      <th>HeartDisease</th>\n",
       "      <th>BMI</th>\n",
       "      <th>Smoking</th>\n",
       "      <th>AlcoholDrinking</th>\n",
       "      <th>Stroke</th>\n",
       "      <th>PhysicalHealth</th>\n",
       "      <th>MentalHealth</th>\n",
       "      <th>DiffWalking</th>\n",
       "      <th>Sex</th>\n",
       "      <th>AgeCategory</th>\n",
       "      <th>Race</th>\n",
       "      <th>Diabetic</th>\n",
       "      <th>PhysicalActivity</th>\n",
       "      <th>GenHealth</th>\n",
       "      <th>SleepTime</th>\n",
       "      <th>Asthma</th>\n",
       "      <th>KidneyDisease</th>\n",
       "      <th>SkinCancer</th>\n",
       "    </tr>\n",
       "  </thead>\n",
       "  <tbody>\n",
       "    <tr>\n",
       "      <th>0</th>\n",
       "      <td>No</td>\n",
       "      <td>16.60</td>\n",
       "      <td>Yes</td>\n",
       "      <td>No</td>\n",
       "      <td>No</td>\n",
       "      <td>3.0</td>\n",
       "      <td>30.0</td>\n",
       "      <td>No</td>\n",
       "      <td>Female</td>\n",
       "      <td>55-59</td>\n",
       "      <td>White</td>\n",
       "      <td>Yes</td>\n",
       "      <td>Yes</td>\n",
       "      <td>Very good</td>\n",
       "      <td>5.0</td>\n",
       "      <td>Yes</td>\n",
       "      <td>No</td>\n",
       "      <td>Yes</td>\n",
       "    </tr>\n",
       "    <tr>\n",
       "      <th>1</th>\n",
       "      <td>No</td>\n",
       "      <td>20.34</td>\n",
       "      <td>No</td>\n",
       "      <td>No</td>\n",
       "      <td>Yes</td>\n",
       "      <td>0.0</td>\n",
       "      <td>0.0</td>\n",
       "      <td>No</td>\n",
       "      <td>Female</td>\n",
       "      <td>80 or older</td>\n",
       "      <td>White</td>\n",
       "      <td>No</td>\n",
       "      <td>Yes</td>\n",
       "      <td>Very good</td>\n",
       "      <td>7.0</td>\n",
       "      <td>No</td>\n",
       "      <td>No</td>\n",
       "      <td>No</td>\n",
       "    </tr>\n",
       "    <tr>\n",
       "      <th>2</th>\n",
       "      <td>No</td>\n",
       "      <td>26.58</td>\n",
       "      <td>Yes</td>\n",
       "      <td>No</td>\n",
       "      <td>No</td>\n",
       "      <td>20.0</td>\n",
       "      <td>30.0</td>\n",
       "      <td>No</td>\n",
       "      <td>Male</td>\n",
       "      <td>65-69</td>\n",
       "      <td>White</td>\n",
       "      <td>Yes</td>\n",
       "      <td>Yes</td>\n",
       "      <td>Fair</td>\n",
       "      <td>8.0</td>\n",
       "      <td>Yes</td>\n",
       "      <td>No</td>\n",
       "      <td>No</td>\n",
       "    </tr>\n",
       "    <tr>\n",
       "      <th>3</th>\n",
       "      <td>No</td>\n",
       "      <td>24.21</td>\n",
       "      <td>No</td>\n",
       "      <td>No</td>\n",
       "      <td>No</td>\n",
       "      <td>0.0</td>\n",
       "      <td>0.0</td>\n",
       "      <td>No</td>\n",
       "      <td>Female</td>\n",
       "      <td>75-79</td>\n",
       "      <td>White</td>\n",
       "      <td>No</td>\n",
       "      <td>No</td>\n",
       "      <td>Good</td>\n",
       "      <td>6.0</td>\n",
       "      <td>No</td>\n",
       "      <td>No</td>\n",
       "      <td>Yes</td>\n",
       "    </tr>\n",
       "    <tr>\n",
       "      <th>4</th>\n",
       "      <td>No</td>\n",
       "      <td>23.71</td>\n",
       "      <td>No</td>\n",
       "      <td>No</td>\n",
       "      <td>No</td>\n",
       "      <td>28.0</td>\n",
       "      <td>0.0</td>\n",
       "      <td>Yes</td>\n",
       "      <td>Female</td>\n",
       "      <td>40-44</td>\n",
       "      <td>White</td>\n",
       "      <td>No</td>\n",
       "      <td>Yes</td>\n",
       "      <td>Very good</td>\n",
       "      <td>8.0</td>\n",
       "      <td>No</td>\n",
       "      <td>No</td>\n",
       "      <td>No</td>\n",
       "    </tr>\n",
       "    <tr>\n",
       "      <th>...</th>\n",
       "      <td>...</td>\n",
       "      <td>...</td>\n",
       "      <td>...</td>\n",
       "      <td>...</td>\n",
       "      <td>...</td>\n",
       "      <td>...</td>\n",
       "      <td>...</td>\n",
       "      <td>...</td>\n",
       "      <td>...</td>\n",
       "      <td>...</td>\n",
       "      <td>...</td>\n",
       "      <td>...</td>\n",
       "      <td>...</td>\n",
       "      <td>...</td>\n",
       "      <td>...</td>\n",
       "      <td>...</td>\n",
       "      <td>...</td>\n",
       "      <td>...</td>\n",
       "    </tr>\n",
       "    <tr>\n",
       "      <th>319790</th>\n",
       "      <td>Yes</td>\n",
       "      <td>27.41</td>\n",
       "      <td>Yes</td>\n",
       "      <td>No</td>\n",
       "      <td>No</td>\n",
       "      <td>7.0</td>\n",
       "      <td>0.0</td>\n",
       "      <td>Yes</td>\n",
       "      <td>Male</td>\n",
       "      <td>60-64</td>\n",
       "      <td>Hispanic</td>\n",
       "      <td>Yes</td>\n",
       "      <td>No</td>\n",
       "      <td>Fair</td>\n",
       "      <td>6.0</td>\n",
       "      <td>Yes</td>\n",
       "      <td>No</td>\n",
       "      <td>No</td>\n",
       "    </tr>\n",
       "    <tr>\n",
       "      <th>319791</th>\n",
       "      <td>No</td>\n",
       "      <td>29.84</td>\n",
       "      <td>Yes</td>\n",
       "      <td>No</td>\n",
       "      <td>No</td>\n",
       "      <td>0.0</td>\n",
       "      <td>0.0</td>\n",
       "      <td>No</td>\n",
       "      <td>Male</td>\n",
       "      <td>35-39</td>\n",
       "      <td>Hispanic</td>\n",
       "      <td>No</td>\n",
       "      <td>Yes</td>\n",
       "      <td>Very good</td>\n",
       "      <td>5.0</td>\n",
       "      <td>Yes</td>\n",
       "      <td>No</td>\n",
       "      <td>No</td>\n",
       "    </tr>\n",
       "    <tr>\n",
       "      <th>319792</th>\n",
       "      <td>No</td>\n",
       "      <td>24.24</td>\n",
       "      <td>No</td>\n",
       "      <td>No</td>\n",
       "      <td>No</td>\n",
       "      <td>0.0</td>\n",
       "      <td>0.0</td>\n",
       "      <td>No</td>\n",
       "      <td>Female</td>\n",
       "      <td>45-49</td>\n",
       "      <td>Hispanic</td>\n",
       "      <td>No</td>\n",
       "      <td>Yes</td>\n",
       "      <td>Good</td>\n",
       "      <td>6.0</td>\n",
       "      <td>No</td>\n",
       "      <td>No</td>\n",
       "      <td>No</td>\n",
       "    </tr>\n",
       "    <tr>\n",
       "      <th>319793</th>\n",
       "      <td>No</td>\n",
       "      <td>32.81</td>\n",
       "      <td>No</td>\n",
       "      <td>No</td>\n",
       "      <td>No</td>\n",
       "      <td>0.0</td>\n",
       "      <td>0.0</td>\n",
       "      <td>No</td>\n",
       "      <td>Female</td>\n",
       "      <td>25-29</td>\n",
       "      <td>Hispanic</td>\n",
       "      <td>No</td>\n",
       "      <td>No</td>\n",
       "      <td>Good</td>\n",
       "      <td>12.0</td>\n",
       "      <td>No</td>\n",
       "      <td>No</td>\n",
       "      <td>No</td>\n",
       "    </tr>\n",
       "    <tr>\n",
       "      <th>319794</th>\n",
       "      <td>No</td>\n",
       "      <td>46.56</td>\n",
       "      <td>No</td>\n",
       "      <td>No</td>\n",
       "      <td>No</td>\n",
       "      <td>0.0</td>\n",
       "      <td>0.0</td>\n",
       "      <td>No</td>\n",
       "      <td>Female</td>\n",
       "      <td>80 or older</td>\n",
       "      <td>Hispanic</td>\n",
       "      <td>No</td>\n",
       "      <td>Yes</td>\n",
       "      <td>Good</td>\n",
       "      <td>8.0</td>\n",
       "      <td>No</td>\n",
       "      <td>No</td>\n",
       "      <td>No</td>\n",
       "    </tr>\n",
       "  </tbody>\n",
       "</table>\n",
       "<p>319795 rows × 18 columns</p>\n",
       "</div>"
      ],
      "text/plain": [
       "       HeartDisease    BMI Smoking AlcoholDrinking Stroke  PhysicalHealth  \\\n",
       "0                No  16.60     Yes              No     No             3.0   \n",
       "1                No  20.34      No              No    Yes             0.0   \n",
       "2                No  26.58     Yes              No     No            20.0   \n",
       "3                No  24.21      No              No     No             0.0   \n",
       "4                No  23.71      No              No     No            28.0   \n",
       "...             ...    ...     ...             ...    ...             ...   \n",
       "319790          Yes  27.41     Yes              No     No             7.0   \n",
       "319791           No  29.84     Yes              No     No             0.0   \n",
       "319792           No  24.24      No              No     No             0.0   \n",
       "319793           No  32.81      No              No     No             0.0   \n",
       "319794           No  46.56      No              No     No             0.0   \n",
       "\n",
       "        MentalHealth DiffWalking     Sex  AgeCategory      Race Diabetic  \\\n",
       "0               30.0          No  Female        55-59     White      Yes   \n",
       "1                0.0          No  Female  80 or older     White       No   \n",
       "2               30.0          No    Male        65-69     White      Yes   \n",
       "3                0.0          No  Female        75-79     White       No   \n",
       "4                0.0         Yes  Female        40-44     White       No   \n",
       "...              ...         ...     ...          ...       ...      ...   \n",
       "319790           0.0         Yes    Male        60-64  Hispanic      Yes   \n",
       "319791           0.0          No    Male        35-39  Hispanic       No   \n",
       "319792           0.0          No  Female        45-49  Hispanic       No   \n",
       "319793           0.0          No  Female        25-29  Hispanic       No   \n",
       "319794           0.0          No  Female  80 or older  Hispanic       No   \n",
       "\n",
       "       PhysicalActivity  GenHealth  SleepTime Asthma KidneyDisease SkinCancer  \n",
       "0                   Yes  Very good        5.0    Yes            No        Yes  \n",
       "1                   Yes  Very good        7.0     No            No         No  \n",
       "2                   Yes       Fair        8.0    Yes            No         No  \n",
       "3                    No       Good        6.0     No            No        Yes  \n",
       "4                   Yes  Very good        8.0     No            No         No  \n",
       "...                 ...        ...        ...    ...           ...        ...  \n",
       "319790               No       Fair        6.0    Yes            No         No  \n",
       "319791              Yes  Very good        5.0    Yes            No         No  \n",
       "319792              Yes       Good        6.0     No            No         No  \n",
       "319793               No       Good       12.0     No            No         No  \n",
       "319794              Yes       Good        8.0     No            No         No  \n",
       "\n",
       "[319795 rows x 18 columns]"
      ]
     },
     "execution_count": 691,
     "metadata": {},
     "output_type": "execute_result"
    }
   ],
   "source": [
    "df = pd.read_csv(file_path)\n",
    "df"
   ]
  },
  {
   "cell_type": "code",
   "execution_count": 692,
   "id": "76b713cb",
   "metadata": {},
   "outputs": [],
   "source": [
    "under_sample = RandomUnderSampler()\n"
   ]
  },
  {
   "cell_type": "code",
   "execution_count": 693,
   "id": "bca46c4d",
   "metadata": {},
   "outputs": [],
   "source": [
    "x = df.drop('HeartDisease',axis=1) "
   ]
  },
  {
   "cell_type": "code",
   "execution_count": 694,
   "id": "3a81cbc3",
   "metadata": {},
   "outputs": [],
   "source": [
    "y = df['HeartDisease']"
   ]
  },
  {
   "cell_type": "code",
   "execution_count": 695,
   "id": "ff257ef5",
   "metadata": {},
   "outputs": [],
   "source": [
    "X , Y = under_sample.fit_resample(x,y )"
   ]
  },
  {
   "cell_type": "code",
   "execution_count": 696,
   "id": "8cf2a6c5",
   "metadata": {},
   "outputs": [
    {
     "data": {
      "text/plain": [
       "(54746, 17)"
      ]
     },
     "execution_count": 696,
     "metadata": {},
     "output_type": "execute_result"
    }
   ],
   "source": [
    "X.shape\n"
   ]
  },
  {
   "cell_type": "markdown",
   "id": "fcd7f1cc",
   "metadata": {},
   "source": [
    "## Train_Test_Split : "
   ]
  },
  {
   "cell_type": "code",
   "execution_count": 697,
   "id": "4146af15",
   "metadata": {},
   "outputs": [],
   "source": [
    "x_train,x_test,y_train,y_test = train_test_split(X,Y,random_state=42,train_size=0.2,stratify=Y\n",
    "                                                )"
   ]
  },
  {
   "cell_type": "code",
   "execution_count": 698,
   "id": "5d4f54f4",
   "metadata": {},
   "outputs": [
    {
     "name": "stdout",
     "output_type": "stream",
     "text": [
      "<class 'pandas.core.frame.DataFrame'>\n",
      "Int64Index: 10949 entries, 52319 to 39032\n",
      "Data columns (total 17 columns):\n",
      " #   Column            Non-Null Count  Dtype  \n",
      "---  ------            --------------  -----  \n",
      " 0   BMI               10949 non-null  float64\n",
      " 1   Smoking           10949 non-null  object \n",
      " 2   AlcoholDrinking   10949 non-null  object \n",
      " 3   Stroke            10949 non-null  object \n",
      " 4   PhysicalHealth    10949 non-null  float64\n",
      " 5   MentalHealth      10949 non-null  float64\n",
      " 6   DiffWalking       10949 non-null  object \n",
      " 7   Sex               10949 non-null  object \n",
      " 8   AgeCategory       10949 non-null  object \n",
      " 9   Race              10949 non-null  object \n",
      " 10  Diabetic          10949 non-null  object \n",
      " 11  PhysicalActivity  10949 non-null  object \n",
      " 12  GenHealth         10949 non-null  object \n",
      " 13  SleepTime         10949 non-null  float64\n",
      " 14  Asthma            10949 non-null  object \n",
      " 15  KidneyDisease     10949 non-null  object \n",
      " 16  SkinCancer        10949 non-null  object \n",
      "dtypes: float64(4), object(13)\n",
      "memory usage: 1.5+ MB\n"
     ]
    }
   ],
   "source": [
    "x_train.info()"
   ]
  },
  {
   "cell_type": "markdown",
   "id": "908e629c",
   "metadata": {},
   "source": [
    "### EDA (Data Exploratory Analysis)"
   ]
  },
  {
   "cell_type": "markdown",
   "id": "81c52a05",
   "metadata": {},
   "source": [
    "### 1. HeartDisease "
   ]
  },
  {
   "cell_type": "code",
   "execution_count": 699,
   "id": "48f90ac0",
   "metadata": {},
   "outputs": [
    {
     "data": {
      "text/plain": [
       "<AxesSubplot: xlabel='HeartDisease', ylabel='count'>"
      ]
     },
     "execution_count": 699,
     "metadata": {},
     "output_type": "execute_result"
    },
    {
     "data": {
      "image/png": "[encoded data removed]",
      "text/plain": [
       "<Figure size 640x480 with 1 Axes>"
      ]
     },
     "metadata": {},
     "output_type": "display_data"
    }
   ],
   "source": [
    "sns.countplot(x = y_train)"
   ]
  },
  {
   "cell_type": "code",
   "execution_count": 700,
   "id": "5e336375",
   "metadata": {},
   "outputs": [
    {
     "data": {
      "text/plain": [
       "{'Yes': 5475, 'No': 5474}"
      ]
     },
     "execution_count": 700,
     "metadata": {},
     "output_type": "execute_result"
    }
   ],
   "source": [
    "y_train.value_counts().to_dict()"
   ]
  },
  {
   "cell_type": "code",
   "execution_count": 701,
   "id": "2a811fa4",
   "metadata": {},
   "outputs": [],
   "source": [
    "Heart_Disesease = {'No':0, 'Yes':1}"
   ]
  },
  {
   "cell_type": "code",
   "execution_count": 702,
   "id": "21a10891",
   "metadata": {},
   "outputs": [],
   "source": [
    "y_train.replace(Heart_Disesease,inplace=True)"
   ]
  },
  {
   "cell_type": "code",
   "execution_count": 703,
   "id": "f0ed4e18",
   "metadata": {},
   "outputs": [
    {
     "data": {
      "text/plain": [
       "0.5000456662708923"
      ]
     },
     "execution_count": 703,
     "metadata": {},
     "output_type": "execute_result"
    }
   ],
   "source": [
    "5475/(y_train.value_counts()[0]+y_train.value_counts()[1])"
   ]
  },
  {
   "cell_type": "markdown",
   "id": "44a59419",
   "metadata": {},
   "source": [
    "### 2. BMI"
   ]
  },
  {
   "cell_type": "code",
   "execution_count": 704,
   "id": "5985a1be",
   "metadata": {},
   "outputs": [],
   "source": [
    "x_train['BMI'] = np.log(x_train['BMI'])"
   ]
  },
  {
   "cell_type": "code",
   "execution_count": 705,
   "id": "7f10daf3",
   "metadata": {},
   "outputs": [
    {
     "data": {
      "text/plain": [
       "<AxesSubplot: xlabel='BMI', ylabel='Density'>"
      ]
     },
     "execution_count": 705,
     "metadata": {},
     "output_type": "execute_result"
    },
    {
     "data": {
      "image/png": "[encoded data removed]",
      "text/plain": [
       "<Figure size 640x480 with 1 Axes>"
      ]
     },
     "metadata": {},
     "output_type": "display_data"
    }
   ],
   "source": [
    "sns.kdeplot(x_train['BMI'])"
   ]
  },
  {
   "cell_type": "markdown",
   "id": "ac31607b",
   "metadata": {},
   "source": [
    "### 3. Smoking"
   ]
  },
  {
   "cell_type": "code",
   "execution_count": 706,
   "id": "20e95888",
   "metadata": {},
   "outputs": [],
   "source": [
    "data = x_train['Smoking'].value_counts().to_dict()\n",
    "Smoking = {'No': 0, 'Yes': 1}"
   ]
  },
  {
   "cell_type": "code",
   "execution_count": 707,
   "id": "f88cf5ad",
   "metadata": {},
   "outputs": [
    {
     "data": {
      "text/plain": [
       "<AxesSubplot: xlabel='Smoking', ylabel='count'>"
      ]
     },
     "execution_count": 707,
     "metadata": {},
     "output_type": "execute_result"
    },
    {
     "data": {
      "image/png": "[encoded data removed]",
      "text/plain": [
       "<Figure size 640x480 with 1 Axes>"
      ]
     },
     "metadata": {},
     "output_type": "display_data"
    }
   ],
   "source": [
    "sns.countplot(x = x_train['Smoking'])"
   ]
  },
  {
   "cell_type": "code",
   "execution_count": 708,
   "id": "93172219",
   "metadata": {},
   "outputs": [
    {
     "data": {
      "text/plain": [
       "No     5584\n",
       "Yes    5365\n",
       "Name: Smoking, dtype: int64"
      ]
     },
     "execution_count": 708,
     "metadata": {},
     "output_type": "execute_result"
    }
   ],
   "source": [
    "x_train.Smoking.value_counts()"
   ]
  },
  {
   "cell_type": "code",
   "execution_count": 709,
   "id": "dcb09b2a",
   "metadata": {},
   "outputs": [],
   "source": [
    "x_train['Smoking'].replace(Smoking,inplace=True)"
   ]
  },
  {
   "cell_type": "markdown",
   "id": "ff3ca423",
   "metadata": {},
   "source": [
    "### 4. AlcoholDrinking"
   ]
  },
  {
   "cell_type": "code",
   "execution_count": 710,
   "id": "a513e3f9",
   "metadata": {
    "scrolled": false
   },
   "outputs": [
    {
     "data": {
      "text/plain": [
       "<AxesSubplot: xlabel='AlcoholDrinking', ylabel='count'>"
      ]
     },
     "execution_count": 710,
     "metadata": {},
     "output_type": "execute_result"
    },
    {
     "data": {
      "image/png": "[encoded data removed]",
      "text/plain": [
       "<Figure size 640x480 with 1 Axes>"
      ]
     },
     "metadata": {},
     "output_type": "display_data"
    }
   ],
   "source": [
    "sns.countplot(x = x_train['AlcoholDrinking'])"
   ]
  },
  {
   "cell_type": "code",
   "execution_count": 711,
   "id": "31703d01",
   "metadata": {},
   "outputs": [],
   "source": [
    "# More than 90% people don't drink alcohol"
   ]
  },
  {
   "cell_type": "code",
   "execution_count": 712,
   "id": "3bf7dd24",
   "metadata": {},
   "outputs": [
    {
     "data": {
      "text/plain": [
       "{'No': 10332, 'Yes': 617}"
      ]
     },
     "execution_count": 712,
     "metadata": {},
     "output_type": "execute_result"
    }
   ],
   "source": [
    "x_train['AlcoholDrinking'].value_counts().to_dict()"
   ]
  },
  {
   "cell_type": "code",
   "execution_count": 713,
   "id": "b252f951",
   "metadata": {},
   "outputs": [],
   "source": [
    "AlcoholDrinking ={'No': 0, 'Yes': 1}"
   ]
  },
  {
   "cell_type": "code",
   "execution_count": 714,
   "id": "999f8f50",
   "metadata": {},
   "outputs": [],
   "source": [
    "x_train['AlcoholDrinking'].replace(AlcoholDrinking,inplace=True)"
   ]
  },
  {
   "cell_type": "markdown",
   "id": "48758feb",
   "metadata": {},
   "source": [
    "### 5. Stroke"
   ]
  },
  {
   "cell_type": "code",
   "execution_count": 715,
   "id": "c91d2b4e",
   "metadata": {},
   "outputs": [
    {
     "data": {
      "text/plain": [
       "{'No': 9890, 'Yes': 1059}"
      ]
     },
     "execution_count": 715,
     "metadata": {},
     "output_type": "execute_result"
    }
   ],
   "source": [
    "x_train['Stroke'].value_counts().to_dict()"
   ]
  },
  {
   "cell_type": "code",
   "execution_count": 716,
   "id": "1de89fe7",
   "metadata": {},
   "outputs": [
    {
     "data": {
      "text/plain": [
       "<AxesSubplot: xlabel='Stroke', ylabel='count'>"
      ]
     },
     "execution_count": 716,
     "metadata": {},
     "output_type": "execute_result"
    },
    {
     "data": {
      "image/png": "[encoded data removed]",
      "text/plain": [
       "<Figure size 640x480 with 1 Axes>"
      ]
     },
     "metadata": {},
     "output_type": "display_data"
    }
   ],
   "source": [
    "sns.countplot(x = x_train['Stroke'])"
   ]
  },
  {
   "cell_type": "code",
   "execution_count": 717,
   "id": "b506ccbb",
   "metadata": {},
   "outputs": [],
   "source": [
    "Stroke = {'No':0, 'Yes':1}"
   ]
  },
  {
   "cell_type": "code",
   "execution_count": 718,
   "id": "d12fb4d8",
   "metadata": {},
   "outputs": [],
   "source": [
    "x_train['Stroke'].replace(Stroke,inplace=True)"
   ]
  },
  {
   "cell_type": "code",
   "execution_count": 719,
   "id": "2ae14540",
   "metadata": {},
   "outputs": [],
   "source": [
    "# less than 5% pepele in their life suffer from brain strok "
   ]
  },
  {
   "cell_type": "markdown",
   "id": "ce4a24cd",
   "metadata": {},
   "source": [
    "### 6.PhysicalHealth"
   ]
  },
  {
   "cell_type": "code",
   "execution_count": 720,
   "id": "e6002a20",
   "metadata": {},
   "outputs": [
    {
     "data": {
      "text/plain": [
       "0.0     6911\n",
       "30.0    1147\n",
       "2.0      475\n",
       "3.0      312\n",
       "5.0      300\n",
       "1.0      289\n",
       "15.0     288\n",
       "10.0     259\n",
       "20.0     189\n",
       "7.0      185\n",
       "4.0      180\n",
       "14.0      95\n",
       "25.0      71\n",
       "6.0       60\n",
       "8.0       35\n",
       "28.0      29\n",
       "21.0      28\n",
       "12.0      25\n",
       "18.0      13\n",
       "29.0      13\n",
       "17.0       9\n",
       "9.0        8\n",
       "27.0       7\n",
       "16.0       6\n",
       "22.0       4\n",
       "13.0       4\n",
       "11.0       2\n",
       "26.0       2\n",
       "24.0       2\n",
       "23.0       1\n",
       "Name: PhysicalHealth, dtype: int64"
      ]
     },
     "execution_count": 720,
     "metadata": {},
     "output_type": "execute_result"
    }
   ],
   "source": [
    "x_train['PhysicalHealth'].value_counts()"
   ]
  },
  {
   "cell_type": "code",
   "execution_count": 721,
   "id": "0eb937af",
   "metadata": {},
   "outputs": [
    {
     "data": {
      "text/plain": [
       "<AxesSubplot: xlabel='HeartDisease', ylabel='PhysicalHealth'>"
      ]
     },
     "execution_count": 721,
     "metadata": {},
     "output_type": "execute_result"
    },
    {
     "data": {
      "image/png": "[encoded data removed]",
      "text/plain": [
       "<Figure size 640x480 with 1 Axes>"
      ]
     },
     "metadata": {},
     "output_type": "display_data"
    }
   ],
   "source": [
    "sns.boxplot(x=y_train , y = x_train['PhysicalHealth'])"
   ]
  },
  {
   "cell_type": "code",
   "execution_count": 722,
   "id": "d2e605eb",
   "metadata": {},
   "outputs": [
    {
     "data": {
      "text/plain": [
       "<AxesSubplot: xlabel='PhysicalHealth', ylabel='Density'>"
      ]
     },
     "execution_count": 722,
     "metadata": {},
     "output_type": "execute_result"
    },
    {
     "data": {
      "image/png": "[encoded data removed]",
      "text/plain": [
       "<Figure size 640x480 with 1 Axes>"
      ]
     },
     "metadata": {},
     "output_type": "display_data"
    }
   ],
   "source": [
    "sns.kdeplot(x = x_train[\"PhysicalHealth\"])"
   ]
  },
  {
   "cell_type": "code",
   "execution_count": 723,
   "id": "478f59bc",
   "metadata": {},
   "outputs": [],
   "source": [
    "def boxcox(*args) -> np.array:\n",
    "    return stats.boxcox(*args)[0]"
   ]
  },
  {
   "cell_type": "markdown",
   "id": "8a9bafd8",
   "metadata": {},
   "source": [
    "### 7. MentalHealth"
   ]
  },
  {
   "cell_type": "code",
   "execution_count": 724,
   "id": "8c76e9b1",
   "metadata": {
    "scrolled": false
   },
   "outputs": [
    {
     "data": {
      "text/plain": [
       "0.0     7179\n",
       "30.0     771\n",
       "2.0      467\n",
       "5.0      444\n",
       "15.0     334\n",
       "10.0     326\n",
       "3.0      312\n",
       "1.0      279\n",
       "20.0     205\n",
       "4.0      152\n",
       "7.0      145\n",
       "14.0      67\n",
       "25.0      62\n",
       "6.0       58\n",
       "8.0       30\n",
       "28.0      27\n",
       "12.0      23\n",
       "21.0      15\n",
       "29.0      14\n",
       "18.0       7\n",
       "13.0       6\n",
       "16.0       6\n",
       "9.0        5\n",
       "17.0       3\n",
       "23.0       3\n",
       "11.0       3\n",
       "27.0       2\n",
       "22.0       2\n",
       "26.0       2\n",
       "Name: MentalHealth, dtype: int64"
      ]
     },
     "execution_count": 724,
     "metadata": {},
     "output_type": "execute_result"
    }
   ],
   "source": [
    "x_train['MentalHealth'].value_counts()"
   ]
  },
  {
   "cell_type": "code",
   "execution_count": 725,
   "id": "59c9fd5b",
   "metadata": {},
   "outputs": [
    {
     "data": {
      "text/plain": [
       "30.0"
      ]
     },
     "execution_count": 725,
     "metadata": {},
     "output_type": "execute_result"
    }
   ],
   "source": [
    "x_train['MentalHealth'].max()"
   ]
  },
  {
   "cell_type": "code",
   "execution_count": 726,
   "id": "87f12e52",
   "metadata": {},
   "outputs": [
    {
     "data": {
      "text/plain": [
       "0.0"
      ]
     },
     "execution_count": 726,
     "metadata": {},
     "output_type": "execute_result"
    }
   ],
   "source": [
    "x_train['MentalHealth'].min()"
   ]
  },
  {
   "cell_type": "code",
   "execution_count": 727,
   "id": "a6264a4d",
   "metadata": {},
   "outputs": [
    {
     "data": {
      "text/plain": [
       "<AxesSubplot: xlabel='MentalHealth', ylabel='Density'>"
      ]
     },
     "execution_count": 727,
     "metadata": {},
     "output_type": "execute_result"
    },
    {
     "data": {
      "image/png": "[encoded data removed]",
      "text/plain": [
       "<Figure size 640x480 with 1 Axes>"
      ]
     },
     "metadata": {},
     "output_type": "display_data"
    }
   ],
   "source": [
    "sns.kdeplot(x = x_train['MentalHealth'])"
   ]
  },
  {
   "cell_type": "code",
   "execution_count": 728,
   "id": "d18b45ac",
   "metadata": {},
   "outputs": [
    {
     "data": {
      "text/plain": [
       "2.144341977127991"
      ]
     },
     "execution_count": 728,
     "metadata": {},
     "output_type": "execute_result"
    }
   ],
   "source": [
    "x_train['MentalHealth'].skew()"
   ]
  },
  {
   "cell_type": "markdown",
   "id": "1939c6fa",
   "metadata": {},
   "source": [
    " >> mentalHealth is highly skewd"
   ]
  },
  {
   "cell_type": "code",
   "execution_count": 729,
   "id": "5138450f",
   "metadata": {},
   "outputs": [],
   "source": [
    "# df.loc[ df[“column_name”] == “some_value”, “column_name”] = “value”"
   ]
  },
  {
   "cell_type": "code",
   "execution_count": 730,
   "id": "955f7b10",
   "metadata": {},
   "outputs": [],
   "source": [
    "index = np.where(x_train['MentalHealth']==0)[0]"
   ]
  },
  {
   "cell_type": "code",
   "execution_count": 731,
   "id": "62bd87c5",
   "metadata": {},
   "outputs": [],
   "source": [
    "# x_train.loc[x_train['MentalHealth']==0,'MentalHealth']=np.nan"
   ]
  },
  {
   "cell_type": "code",
   "execution_count": null,
   "id": "d9969b58",
   "metadata": {},
   "outputs": [],
   "source": []
  },
  {
   "cell_type": "markdown",
   "id": "56556494",
   "metadata": {},
   "source": [
    "### 8.DiffWalking"
   ]
  },
  {
   "cell_type": "code",
   "execution_count": 732,
   "id": "631f5a3b",
   "metadata": {},
   "outputs": [
    {
     "data": {
      "text/plain": [
       "{'No': 8355, 'Yes': 2594}"
      ]
     },
     "execution_count": 732,
     "metadata": {},
     "output_type": "execute_result"
    }
   ],
   "source": [
    "x_train['DiffWalking'].value_counts().to_dict()"
   ]
  },
  {
   "cell_type": "code",
   "execution_count": 733,
   "id": "8d7aa7e4",
   "metadata": {},
   "outputs": [],
   "source": [
    "DiffWalking = {'No': 0, 'Yes':1}"
   ]
  },
  {
   "cell_type": "code",
   "execution_count": 734,
   "id": "76cbf082",
   "metadata": {},
   "outputs": [],
   "source": [
    "x_train['DiffWalking'].replace(DiffWalking,inplace=True)"
   ]
  },
  {
   "cell_type": "code",
   "execution_count": 735,
   "id": "eb716859",
   "metadata": {},
   "outputs": [
    {
     "data": {
      "text/plain": [
       "<AxesSubplot: xlabel='DiffWalking', ylabel='count'>"
      ]
     },
     "execution_count": 735,
     "metadata": {},
     "output_type": "execute_result"
    },
    {
     "data": {
      "image/png": "[encoded data removed]",
      "text/plain": [
       "<Figure size 640x480 with 1 Axes>"
      ]
     },
     "metadata": {},
     "output_type": "display_data"
    }
   ],
   "source": [
    "sns.countplot(x = x_train['DiffWalking'])"
   ]
  },
  {
   "cell_type": "code",
   "execution_count": 736,
   "id": "bfcf7f71",
   "metadata": {},
   "outputs": [],
   "source": [
    "x_train['DiffWalking'].replace(data,inplace=True)"
   ]
  },
  {
   "cell_type": "markdown",
   "id": "7432ab87",
   "metadata": {},
   "source": [
    "### 9. Sex "
   ]
  },
  {
   "cell_type": "code",
   "execution_count": 737,
   "id": "33b1d3cf",
   "metadata": {},
   "outputs": [
    {
     "data": {
      "text/plain": [
       "{'Male': 5808, 'Female': 5141}"
      ]
     },
     "execution_count": 737,
     "metadata": {},
     "output_type": "execute_result"
    }
   ],
   "source": [
    "\n",
    "x_train['Sex'].value_counts().to_dict()"
   ]
  },
  {
   "cell_type": "code",
   "execution_count": 738,
   "id": "b90110f9",
   "metadata": {},
   "outputs": [
    {
     "data": {
      "text/plain": [
       "<AxesSubplot: xlabel='Sex', ylabel='count'>"
      ]
     },
     "execution_count": 738,
     "metadata": {},
     "output_type": "execute_result"
    },
    {
     "data": {
      "image/png": "[encoded data removed]",
      "text/plain": [
       "<Figure size 640x480 with 1 Axes>"
      ]
     },
     "metadata": {},
     "output_type": "display_data"
    }
   ],
   "source": [
    "sns.countplot(x=x_train['Sex'])"
   ]
  },
  {
   "cell_type": "code",
   "execution_count": 739,
   "id": "8ae17c26",
   "metadata": {},
   "outputs": [],
   "source": [
    "Sex = {'Female': 0, 'Male': 1}"
   ]
  },
  {
   "cell_type": "code",
   "execution_count": 740,
   "id": "a8819204",
   "metadata": {},
   "outputs": [],
   "source": [
    "x_train['Sex'].replace(Sex,inplace=True)"
   ]
  },
  {
   "cell_type": "markdown",
   "id": "1864ee4a",
   "metadata": {},
   "source": [
    "### 10.AgeCategory"
   ]
  },
  {
   "cell_type": "code",
   "execution_count": 741,
   "id": "391c2d11",
   "metadata": {},
   "outputs": [
    {
     "data": {
      "text/plain": [
       "80 or older    1497\n",
       "70-74          1421\n",
       "65-69          1391\n",
       "60-64          1264\n",
       "75-79          1146\n",
       "55-59           932\n",
       "50-54           753\n",
       "45-49           505\n",
       "40-44           489\n",
       "18-24           437\n",
       "35-39           427\n",
       "30-34           379\n",
       "25-29           308\n",
       "Name: AgeCategory, dtype: int64"
      ]
     },
     "execution_count": 741,
     "metadata": {},
     "output_type": "execute_result"
    }
   ],
   "source": [
    "x_train['AgeCategory'].value_counts()"
   ]
  },
  {
   "cell_type": "code",
   "execution_count": 742,
   "id": "9d2c605c",
   "metadata": {},
   "outputs": [
    {
     "data": {
      "text/plain": [
       "<AxesSubplot: xlabel='AgeCategory', ylabel='count'>"
      ]
     },
     "execution_count": 742,
     "metadata": {},
     "output_type": "execute_result"
    },
    {
     "data": {
      "image/png": "[encoded data removed]",
      "text/plain": [
       "<Figure size 1000x500 with 1 Axes>"
      ]
     },
     "metadata": {},
     "output_type": "display_data"
    }
   ],
   "source": [
    "plt.figure(figsize= (10,5))\n",
    "sns.countplot(x = x_train.AgeCategory.sort_values())\n"
   ]
  },
  {
   "cell_type": "code",
   "execution_count": 743,
   "id": "5d228648",
   "metadata": {},
   "outputs": [
    {
     "data": {
      "text/plain": [
       "dtype('O')"
      ]
     },
     "execution_count": 743,
     "metadata": {},
     "output_type": "execute_result"
    }
   ],
   "source": [
    "x_train['AgeCategory'].dtypes"
   ]
  },
  {
   "cell_type": "code",
   "execution_count": 744,
   "id": "63c2d708",
   "metadata": {},
   "outputs": [],
   "source": [
    "import re\n",
    "def extract_age(age_data):\n",
    "\n",
    "    if len(age_data)==5:\n",
    "        age = re.findall('\\d{2}',age_data)\n",
    "        age_mean = (int(age[0]) + int(age[1]))/len(age)\n",
    "        return age_mean\n",
    "    else:\n",
    "        age = re.findall('\\d{2}',age_data)\n",
    "        age_mean =int(age[0])\n",
    "        return age_mean\n",
    "    \n",
    "# age_data = '80 or older'        \n",
    "        \n",
    "# extract_age(age_data)        "
   ]
  },
  {
   "cell_type": "code",
   "execution_count": 745,
   "id": "8e5746fb",
   "metadata": {},
   "outputs": [],
   "source": [
    "x_train['AgeCategory']=x_train['AgeCategory'].apply(extract_age)"
   ]
  },
  {
   "cell_type": "code",
   "execution_count": 746,
   "id": "f0d3246f",
   "metadata": {},
   "outputs": [
    {
     "data": {
      "text/plain": [
       "52319    57.0\n",
       "10726    21.0\n",
       "25622    62.0\n",
       "17763    52.0\n",
       "11752    52.0\n",
       "         ... \n",
       "14094    42.0\n",
       "14653    72.0\n",
       "39141    80.0\n",
       "35471    62.0\n",
       "39032    72.0\n",
       "Name: AgeCategory, Length: 10949, dtype: float64"
      ]
     },
     "execution_count": 746,
     "metadata": {},
     "output_type": "execute_result"
    }
   ],
   "source": [
    "x_train['AgeCategory']"
   ]
  },
  {
   "cell_type": "code",
   "execution_count": 747,
   "id": "c056ab7e",
   "metadata": {},
   "outputs": [
    {
     "data": {
      "text/plain": [
       "<AxesSubplot: xlabel='AgeCategory', ylabel='Density'>"
      ]
     },
     "execution_count": 747,
     "metadata": {},
     "output_type": "execute_result"
    },
    {
     "data": {
      "image/png": "[encoded data removed]",
      "text/plain": [
       "<Figure size 640x480 with 1 Axes>"
      ]
     },
     "metadata": {},
     "output_type": "display_data"
    }
   ],
   "source": [
    "sns.kdeplot(x= x_train['AgeCategory'])"
   ]
  },
  {
   "cell_type": "markdown",
   "id": "c16cc07b",
   "metadata": {},
   "source": [
    ">> AgeCategory is Negative skwed skewd "
   ]
  },
  {
   "cell_type": "markdown",
   "id": "7e8d8401",
   "metadata": {},
   "source": [
    "### 11. Race  "
   ]
  },
  {
   "cell_type": "code",
   "execution_count": 748,
   "id": "e7a33386",
   "metadata": {},
   "outputs": [
    {
     "data": {
      "text/plain": [
       "{'White': 8668,\n",
       " 'Hispanic': 816,\n",
       " 'Black': 780,\n",
       " 'Other': 315,\n",
       " 'American Indian/Alaskan Native': 193,\n",
       " 'Asian': 177}"
      ]
     },
     "execution_count": 748,
     "metadata": {},
     "output_type": "execute_result"
    }
   ],
   "source": [
    "x_train['Race'].value_counts().to_dict()"
   ]
  },
  {
   "cell_type": "code",
   "execution_count": 749,
   "id": "36c840ed",
   "metadata": {},
   "outputs": [
    {
     "data": {
      "text/plain": [
       "<AxesSubplot: xlabel='Race', ylabel='count'>"
      ]
     },
     "execution_count": 749,
     "metadata": {},
     "output_type": "execute_result"
    },
    {
     "data": {
      "image/png": "[encoded data removed]",
      "text/plain": [
       "<Figure size 1000x500 with 1 Axes>"
      ]
     },
     "metadata": {},
     "output_type": "display_data"
    }
   ],
   "source": [
    "plt.figure(figsize = (10,5))\n",
    "sns.countplot(x = x_train.Race.sort_values() )"
   ]
  },
  {
   "cell_type": "code",
   "execution_count": 750,
   "id": "552cafbf",
   "metadata": {},
   "outputs": [],
   "source": [
    "Race = {'White': 49202,\n",
    " 'Hispanic': 5377,\n",
    " 'Black': 4535,\n",
    " 'Other': 2197,\n",
    " 'Asian': 1643,\n",
    " 'American Indian/Alaskan Native': 1005}"
   ]
  },
  {
   "cell_type": "code",
   "execution_count": 751,
   "id": "cb19d5ab",
   "metadata": {},
   "outputs": [],
   "source": [
    "# hue = OneHotEncoder()\n",
    "# hue.fit(x_train[['Race','Diabetic']])\n",
    "# x_train = pd.get_dummies(x_train['Race'])"
   ]
  },
  {
   "cell_type": "markdown",
   "id": "a29878db",
   "metadata": {},
   "source": [
    "### 11. Diabetic"
   ]
  },
  {
   "cell_type": "code",
   "execution_count": 752,
   "id": "6d3251a3",
   "metadata": {},
   "outputs": [
    {
     "data": {
      "text/plain": [
       "{'No': 8222,\n",
       " 'Yes': 2397,\n",
       " 'No, borderline diabetes': 269,\n",
       " 'Yes (during pregnancy)': 61}"
      ]
     },
     "execution_count": 752,
     "metadata": {},
     "output_type": "execute_result"
    }
   ],
   "source": [
    "x_train['Diabetic'].value_counts().to_dict()"
   ]
  },
  {
   "cell_type": "code",
   "execution_count": 753,
   "id": "3bb50e88",
   "metadata": {},
   "outputs": [
    {
     "data": {
      "text/plain": [
       "<AxesSubplot: xlabel='Diabetic', ylabel='count'>"
      ]
     },
     "execution_count": 753,
     "metadata": {},
     "output_type": "execute_result"
    },
    {
     "data": {
      "image/png": "[encoded data removed]",
      "text/plain": [
       "<Figure size 1000x500 with 1 Axes>"
      ]
     },
     "metadata": {},
     "output_type": "display_data"
    }
   ],
   "source": [
    "plt.figure(figsize = (10,5))\n",
    "sns.countplot(x = x_train['Diabetic'])"
   ]
  },
  {
   "cell_type": "markdown",
   "id": "1f5250a3",
   "metadata": {},
   "source": [
    "### 12.PhysicalActivity"
   ]
  },
  {
   "cell_type": "code",
   "execution_count": 754,
   "id": "82d05204",
   "metadata": {},
   "outputs": [
    {
     "data": {
      "text/plain": [
       "{'Yes': 7819, 'No': 3130}"
      ]
     },
     "execution_count": 754,
     "metadata": {},
     "output_type": "execute_result"
    }
   ],
   "source": [
    "x_train['PhysicalActivity'].value_counts().to_dict()"
   ]
  },
  {
   "cell_type": "code",
   "execution_count": 755,
   "id": "a2333e8f",
   "metadata": {},
   "outputs": [
    {
     "data": {
      "text/plain": [
       "<AxesSubplot: xlabel='PhysicalActivity', ylabel='count'>"
      ]
     },
     "execution_count": 755,
     "metadata": {},
     "output_type": "execute_result"
    },
    {
     "data": {
      "image/png": "[encoded data removed]",
      "text/plain": [
       "<Figure size 640x480 with 1 Axes>"
      ]
     },
     "metadata": {},
     "output_type": "display_data"
    }
   ],
   "source": [
    "sns.countplot(x = x_train.PhysicalActivity)"
   ]
  },
  {
   "cell_type": "code",
   "execution_count": 756,
   "id": "36c20aac",
   "metadata": {},
   "outputs": [],
   "source": [
    "PhysicalActivity = {'Yes':0, 'No':1}\n",
    "\n",
    "x_train[\"PhysicalActivity\"].replace({'Yes':0, 'No':1},inplace=True)"
   ]
  },
  {
   "cell_type": "markdown",
   "id": "75a67f83",
   "metadata": {},
   "source": [
    "### 13. GenHealth"
   ]
  },
  {
   "cell_type": "code",
   "execution_count": 757,
   "id": "14787b7f",
   "metadata": {},
   "outputs": [
    {
     "data": {
      "text/plain": [
       "{'Good': 3506, 'Very good': 3144, 'Fair': 1894, 'Excellent': 1522, 'Poor': 883}"
      ]
     },
     "execution_count": 757,
     "metadata": {},
     "output_type": "execute_result"
    }
   ],
   "source": [
    "x_train['GenHealth'].value_counts().to_dict()"
   ]
  },
  {
   "cell_type": "code",
   "execution_count": 758,
   "id": "0145b1a7",
   "metadata": {},
   "outputs": [],
   "source": [
    "GenHealth= {'Very good': 2,\n",
    " 'Good': 3,\n",
    " 'Excellent': 1,\n",
    " 'Fair': 4,\n",
    " 'Poor': 5}"
   ]
  },
  {
   "cell_type": "code",
   "execution_count": 759,
   "id": "b9d88f5a",
   "metadata": {},
   "outputs": [
    {
     "data": {
      "text/plain": [
       "<AxesSubplot: xlabel='GenHealth', ylabel='count'>"
      ]
     },
     "execution_count": 759,
     "metadata": {},
     "output_type": "execute_result"
    },
    {
     "data": {
      "image/png": "[encoded data removed]",
      "text/plain": [
       "<Figure size 640x480 with 1 Axes>"
      ]
     },
     "metadata": {},
     "output_type": "display_data"
    }
   ],
   "source": [
    "sns.countplot(x = x_train.GenHealth)"
   ]
  },
  {
   "cell_type": "code",
   "execution_count": 760,
   "id": "cd7d5306",
   "metadata": {},
   "outputs": [],
   "source": [
    "x_train['GenHealth'].replace(GenHealth,inplace=True)"
   ]
  },
  {
   "cell_type": "markdown",
   "id": "86c6432e",
   "metadata": {},
   "source": [
    "### 14. SleepTime "
   ]
  },
  {
   "cell_type": "code",
   "execution_count": 761,
   "id": "82ac4569",
   "metadata": {},
   "outputs": [
    {
     "data": {
      "text/plain": [
       "8.0     3331\n",
       "7.0     2950\n",
       "6.0     2254\n",
       "5.0      741\n",
       "9.0      618\n",
       "4.0      358\n",
       "10.0     349\n",
       "12.0     109\n",
       "3.0      101\n",
       "2.0       37\n",
       "1.0       26\n",
       "11.0      17\n",
       "16.0      15\n",
       "14.0      15\n",
       "18.0       8\n",
       "15.0       7\n",
       "20.0       5\n",
       "13.0       4\n",
       "24.0       3\n",
       "22.0       1\n",
       "Name: SleepTime, dtype: int64"
      ]
     },
     "execution_count": 761,
     "metadata": {},
     "output_type": "execute_result"
    }
   ],
   "source": [
    "x_train['SleepTime'].value_counts()"
   ]
  },
  {
   "cell_type": "code",
   "execution_count": 762,
   "id": "af6a4cfe",
   "metadata": {},
   "outputs": [
    {
     "data": {
      "text/plain": [
       "39"
      ]
     },
     "execution_count": 762,
     "metadata": {},
     "output_type": "execute_result"
    }
   ],
   "source": [
    "(x_train['SleepTime']>=15).sum()"
   ]
  },
  {
   "cell_type": "code",
   "execution_count": 763,
   "id": "ea86843d",
   "metadata": {},
   "outputs": [],
   "source": [
    "x_train.loc[ (x_train[\"SleepTime\"]>=15) & (x_train[\"SleepTime\"]<=3) , \"SleepTime\"] = np.nan"
   ]
  },
  {
   "cell_type": "code",
   "execution_count": 764,
   "id": "e198554f",
   "metadata": {},
   "outputs": [
    {
     "data": {
      "text/plain": [
       "52319     7.0\n",
       "10726     7.0\n",
       "25622     7.0\n",
       "17763     8.0\n",
       "11752     8.0\n",
       "         ... \n",
       "14094     5.0\n",
       "14653     7.0\n",
       "39141    12.0\n",
       "35471     8.0\n",
       "39032     7.0\n",
       "Name: SleepTime, Length: 10949, dtype: float64"
      ]
     },
     "execution_count": 764,
     "metadata": {},
     "output_type": "execute_result"
    }
   ],
   "source": [
    "med = x_train['SleepTime'].median()\n",
    "x_train['SleepTime'].fillna(med)"
   ]
  },
  {
   "cell_type": "code",
   "execution_count": null,
   "id": "78feae37",
   "metadata": {},
   "outputs": [],
   "source": []
  },
  {
   "cell_type": "markdown",
   "id": "cc3d10bc",
   "metadata": {},
   "source": [
    "### 15. Asthma "
   ]
  },
  {
   "cell_type": "code",
   "execution_count": 765,
   "id": "19123fb2",
   "metadata": {},
   "outputs": [
    {
     "data": {
      "text/plain": [
       "No     9309\n",
       "Yes    1640\n",
       "Name: Asthma, dtype: int64"
      ]
     },
     "execution_count": 765,
     "metadata": {},
     "output_type": "execute_result"
    }
   ],
   "source": [
    "x_train['Asthma'].value_counts()"
   ]
  },
  {
   "cell_type": "code",
   "execution_count": 766,
   "id": "7fe925df",
   "metadata": {},
   "outputs": [
    {
     "data": {
      "text/plain": [
       "<AxesSubplot: xlabel='Asthma', ylabel='count'>"
      ]
     },
     "execution_count": 766,
     "metadata": {},
     "output_type": "execute_result"
    },
    {
     "data": {
      "image/png": "[encoded data removed]",
      "text/plain": [
       "<Figure size 640x480 with 1 Axes>"
      ]
     },
     "metadata": {},
     "output_type": "display_data"
    }
   ],
   "source": [
    "sns.countplot(x = x_train.Asthma)"
   ]
  },
  {
   "cell_type": "code",
   "execution_count": 767,
   "id": "05a265c3",
   "metadata": {},
   "outputs": [],
   "source": [
    "Asthma= {'No': 0, 'Yes': 1}\n",
    "x_train['Asthma'].replace(Asthma, inplace=True)"
   ]
  },
  {
   "cell_type": "markdown",
   "id": "f4ffecdc",
   "metadata": {},
   "source": [
    "### 16. KidneyDisease      "
   ]
  },
  {
   "cell_type": "code",
   "execution_count": 768,
   "id": "52d55b2a",
   "metadata": {},
   "outputs": [
    {
     "data": {
      "text/plain": [
       "No     10109\n",
       "Yes      840\n",
       "Name: KidneyDisease, dtype: int64"
      ]
     },
     "execution_count": 768,
     "metadata": {},
     "output_type": "execute_result"
    }
   ],
   "source": [
    "x_train['KidneyDisease'].value_counts()"
   ]
  },
  {
   "cell_type": "code",
   "execution_count": 769,
   "id": "29a30ae7",
   "metadata": {},
   "outputs": [
    {
     "data": {
      "text/plain": [
       "<AxesSubplot: xlabel='KidneyDisease', ylabel='count'>"
      ]
     },
     "execution_count": 769,
     "metadata": {},
     "output_type": "execute_result"
    },
    {
     "data": {
      "image/png": "[encoded data removed]",
      "text/plain": [
       "<Figure size 640x480 with 1 Axes>"
      ]
     },
     "metadata": {},
     "output_type": "display_data"
    }
   ],
   "source": [
    "sns.countplot(x = x_train.KidneyDisease)"
   ]
  },
  {
   "cell_type": "code",
   "execution_count": 770,
   "id": "e8f17c38",
   "metadata": {},
   "outputs": [],
   "source": [
    "KidneyDisease= {'No': 0, 'Yes': 1}\n",
    "x_train['KidneyDisease'].replace(KidneyDisease, inplace=True)"
   ]
  },
  {
   "cell_type": "markdown",
   "id": "7423c49c",
   "metadata": {},
   "source": [
    "### 17. SkinCancer"
   ]
  },
  {
   "cell_type": "code",
   "execution_count": 771,
   "id": "9b46771c",
   "metadata": {},
   "outputs": [
    {
     "data": {
      "text/plain": [
       "{'No': 9429, 'Yes': 1520}"
      ]
     },
     "execution_count": 771,
     "metadata": {},
     "output_type": "execute_result"
    }
   ],
   "source": [
    "x_train['SkinCancer'].value_counts().to_dict()"
   ]
  },
  {
   "cell_type": "code",
   "execution_count": 772,
   "id": "4ab27402",
   "metadata": {},
   "outputs": [
    {
     "data": {
      "text/plain": [
       "<AxesSubplot: xlabel='SkinCancer', ylabel='count'>"
      ]
     },
     "execution_count": 772,
     "metadata": {},
     "output_type": "execute_result"
    },
    {
     "data": {
      "image/png": "[encoded data removed]",
      "text/plain": [
       "<Figure size 640x480 with 1 Axes>"
      ]
     },
     "metadata": {},
     "output_type": "display_data"
    }
   ],
   "source": [
    "sns.countplot(x = x_train.SkinCancer)"
   ]
  },
  {
   "cell_type": "code",
   "execution_count": 773,
   "id": "f627cf7f",
   "metadata": {},
   "outputs": [],
   "source": [
    "SkinCancer= {'No': 0, 'Yes': 1}"
   ]
  },
  {
   "cell_type": "code",
   "execution_count": 774,
   "id": "683628c9",
   "metadata": {},
   "outputs": [],
   "source": [
    "x_train['SkinCancer'].replace(SkinCancer,inplace=True)"
   ]
  },
  {
   "cell_type": "markdown",
   "id": "69f2c36d",
   "metadata": {},
   "source": [
    "## Univariate Analysis"
   ]
  },
  {
   "cell_type": "markdown",
   "id": "0fba8ac4",
   "metadata": {},
   "source": [
    "### Conclusion : "
   ]
  },
  {
   "cell_type": "markdown",
   "id": "3fccd3b6",
   "metadata": {},
   "source": [
    "Catgorical Data: \n",
    "1.Target column is highly imbalanced 90% = No , 8% = Yes\n",
    "2.Smoking almost the 42% people smoker \n",
    "3.More than 90% people don't drink alcohol\n",
    "4.less than 5% pepele in their life suffer from brain strok \n",
    "5.Diffwalking more 5% people do.\n",
    "6.Male and Female catagory are amlost equal\n",
    "7.Almost the 65% people Physicaly active\n"
   ]
  },
  {
   "cell_type": "markdown",
   "id": "a54cac17",
   "metadata": {},
   "source": [
    "Ordinal Data \n",
    "1.In AgeCatgory most of the people belongs to 50-80 or older catgory\n",
    "2.In Race almost more than 80% people white\n",
    "3.Diabitic moret than 75%.\n",
    "4.GenHealt most of the people with very and good health\n",
    "5."
   ]
  },
  {
   "cell_type": "markdown",
   "id": "88e1cd61",
   "metadata": {},
   "source": [
    "Numeric Data : \n",
    "1.MentalHealth highly positive skwed\n",
    "2.PhysicalHealt higly positive skewd\n",
    "3.Most of the people sleeping duration 5-9\n"
   ]
  },
  {
   "cell_type": "markdown",
   "id": "add4bc26",
   "metadata": {},
   "source": [
    "## One Hot Encoder :"
   ]
  },
  {
   "cell_type": "code",
   "execution_count": 775,
   "id": "a78c42cf",
   "metadata": {},
   "outputs": [],
   "source": [
    "# hue = OneHotEncoder()\n",
    "# hue.fit(x_train[['Race','Diabetic']])\n"
   ]
  },
  {
   "cell_type": "code",
   "execution_count": 776,
   "id": "248c8248",
   "metadata": {},
   "outputs": [],
   "source": [
    "# hue.categories_"
   ]
  },
  {
   "cell_type": "code",
   "execution_count": 777,
   "id": "09486ed1",
   "metadata": {},
   "outputs": [],
   "source": [
    "# coln_trans=make_column_transformer((OneHotEncoder(categories=hue.categories_),['Race','Diabetic']),remainder=\"passthrough\")"
   ]
  },
  {
   "cell_type": "code",
   "execution_count": 778,
   "id": "a49869f4",
   "metadata": {},
   "outputs": [],
   "source": [
    "# coln_trans"
   ]
  },
  {
   "cell_type": "code",
   "execution_count": 779,
   "id": "09410e21",
   "metadata": {},
   "outputs": [],
   "source": [
    "one_hot = pd.get_dummies(x_train[['Race','Diabetic']])"
   ]
  },
  {
   "cell_type": "code",
   "execution_count": 780,
   "id": "7869fe0c",
   "metadata": {},
   "outputs": [],
   "source": [
    "x_train = x_train.drop(['Race','Diabetic'],axis = 1)"
   ]
  },
  {
   "cell_type": "code",
   "execution_count": 781,
   "id": "342f5002",
   "metadata": {},
   "outputs": [],
   "source": [
    "x_train = pd.concat([x_train , one_hot],axis = 1)"
   ]
  },
  {
   "cell_type": "markdown",
   "id": "a632226a",
   "metadata": {},
   "source": [
    "# Testing : "
   ]
  },
  {
   "cell_type": "code",
   "execution_count": null,
   "id": "eb80b476",
   "metadata": {},
   "outputs": [],
   "source": []
  },
  {
   "cell_type": "code",
   "execution_count": 782,
   "id": "cdf58846",
   "metadata": {},
   "outputs": [],
   "source": [
    "y_test.replace(Heart_Disesease,inplace=True)\n",
    "x_test['BMI'] = x_test['BMI'].apply(lambda x : np.log(x))\n",
    "x_test['Smoking'].replace(Smoking,inplace=True)\n",
    "x_test['AlcoholDrinking'].replace(AlcoholDrinking,inplace=True)\n",
    "x_test['Stroke'].replace(Stroke,inplace=True)\n",
    "x_test['DiffWalking'].replace(DiffWalking,inplace=True)\n",
    "x_test['Sex'].replace(Sex,inplace=True)\n",
    "x_test[\"PhysicalActivity\"].replace({'Yes':0, 'No':1},inplace=True)\n",
    "x_test[\"PhysicalActivity\"].replace({'Yes':0, 'No':1},inplace=True)\n",
    "x_test['GenHealth'].replace(GenHealth,inplace=True)\n",
    "x_test['Asthma'].replace(Asthma, inplace=True)\n",
    "x_test['KidneyDisease'].replace(KidneyDisease, inplace=True)\n",
    "x_test['SkinCancer'].replace(SkinCancer,inplace=True)\n",
    "x_test['AgeCategory']=x_test['AgeCategory'].apply(extract_age)"
   ]
  },
  {
   "cell_type": "code",
   "execution_count": 783,
   "id": "10afd9ed",
   "metadata": {},
   "outputs": [],
   "source": [
    "one_hot = pd.get_dummies(x_test[['Race','Diabetic']])"
   ]
  },
  {
   "cell_type": "code",
   "execution_count": 784,
   "id": "47908c89",
   "metadata": {},
   "outputs": [],
   "source": [
    "x_test = x_test.drop(['Race','Diabetic'],axis = 1)"
   ]
  },
  {
   "cell_type": "code",
   "execution_count": 785,
   "id": "e2b87526",
   "metadata": {},
   "outputs": [],
   "source": [
    "x_test=pd.concat([x_test , one_hot],axis = 1)"
   ]
  },
  {
   "cell_type": "code",
   "execution_count": 786,
   "id": "1a165322",
   "metadata": {},
   "outputs": [
    {
     "name": "stdout",
     "output_type": "stream",
     "text": [
      "<class 'pandas.core.frame.DataFrame'>\n",
      "Int64Index: 43797 entries, 14559 to 54048\n",
      "Data columns (total 25 columns):\n",
      " #   Column                               Non-Null Count  Dtype  \n",
      "---  ------                               --------------  -----  \n",
      " 0   BMI                                  43797 non-null  float64\n",
      " 1   Smoking                              43797 non-null  int64  \n",
      " 2   AlcoholDrinking                      43797 non-null  int64  \n",
      " 3   Stroke                               43797 non-null  int64  \n",
      " 4   PhysicalHealth                       43797 non-null  float64\n",
      " 5   MentalHealth                         43797 non-null  float64\n",
      " 6   DiffWalking                          43797 non-null  int64  \n",
      " 7   Sex                                  43797 non-null  int64  \n",
      " 8   AgeCategory                          43797 non-null  float64\n",
      " 9   PhysicalActivity                     43797 non-null  int64  \n",
      " 10  GenHealth                            43797 non-null  int64  \n",
      " 11  SleepTime                            43797 non-null  float64\n",
      " 12  Asthma                               43797 non-null  int64  \n",
      " 13  KidneyDisease                        43797 non-null  int64  \n",
      " 14  SkinCancer                           43797 non-null  int64  \n",
      " 15  Race_American Indian/Alaskan Native  43797 non-null  uint8  \n",
      " 16  Race_Asian                           43797 non-null  uint8  \n",
      " 17  Race_Black                           43797 non-null  uint8  \n",
      " 18  Race_Hispanic                        43797 non-null  uint8  \n",
      " 19  Race_Other                           43797 non-null  uint8  \n",
      " 20  Race_White                           43797 non-null  uint8  \n",
      " 21  Diabetic_No                          43797 non-null  uint8  \n",
      " 22  Diabetic_No, borderline diabetes     43797 non-null  uint8  \n",
      " 23  Diabetic_Yes                         43797 non-null  uint8  \n",
      " 24  Diabetic_Yes (during pregnancy)      43797 non-null  uint8  \n",
      "dtypes: float64(5), int64(10), uint8(10)\n",
      "memory usage: 5.8 MB\n"
     ]
    }
   ],
   "source": [
    "x_test.info()"
   ]
  },
  {
   "cell_type": "markdown",
   "id": "56061bc4",
   "metadata": {},
   "source": [
    "#### Missing Values : "
   ]
  },
  {
   "cell_type": "code",
   "execution_count": 787,
   "id": "58e9bbd0",
   "metadata": {},
   "outputs": [
    {
     "name": "stdout",
     "output_type": "stream",
     "text": [
      "<class 'pandas.core.frame.DataFrame'>\n",
      "Int64Index: 10949 entries, 52319 to 39032\n",
      "Data columns (total 25 columns):\n",
      " #   Column                               Non-Null Count  Dtype  \n",
      "---  ------                               --------------  -----  \n",
      " 0   BMI                                  10949 non-null  float64\n",
      " 1   Smoking                              10949 non-null  int64  \n",
      " 2   AlcoholDrinking                      10949 non-null  int64  \n",
      " 3   Stroke                               10949 non-null  int64  \n",
      " 4   PhysicalHealth                       10949 non-null  float64\n",
      " 5   MentalHealth                         10949 non-null  float64\n",
      " 6   DiffWalking                          10949 non-null  int64  \n",
      " 7   Sex                                  10949 non-null  int64  \n",
      " 8   AgeCategory                          10949 non-null  float64\n",
      " 9   PhysicalActivity                     10949 non-null  int64  \n",
      " 10  GenHealth                            10949 non-null  int64  \n",
      " 11  SleepTime                            10949 non-null  float64\n",
      " 12  Asthma                               10949 non-null  int64  \n",
      " 13  KidneyDisease                        10949 non-null  int64  \n",
      " 14  SkinCancer                           10949 non-null  int64  \n",
      " 15  Race_American Indian/Alaskan Native  10949 non-null  uint8  \n",
      " 16  Race_Asian                           10949 non-null  uint8  \n",
      " 17  Race_Black                           10949 non-null  uint8  \n",
      " 18  Race_Hispanic                        10949 non-null  uint8  \n",
      " 19  Race_Other                           10949 non-null  uint8  \n",
      " 20  Race_White                           10949 non-null  uint8  \n",
      " 21  Diabetic_No                          10949 non-null  uint8  \n",
      " 22  Diabetic_No, borderline diabetes     10949 non-null  uint8  \n",
      " 23  Diabetic_Yes                         10949 non-null  uint8  \n",
      " 24  Diabetic_Yes (during pregnancy)      10949 non-null  uint8  \n",
      "dtypes: float64(5), int64(10), uint8(10)\n",
      "memory usage: 1.4 MB\n"
     ]
    }
   ],
   "source": [
    "x_train.info()"
   ]
  },
  {
   "cell_type": "markdown",
   "id": "22565481",
   "metadata": {},
   "source": [
    "# Algorithms ==================================================="
   ]
  },
  {
   "cell_type": "markdown",
   "id": "bd3c8c8f",
   "metadata": {},
   "source": [
    "## 1. Logistic Regression "
   ]
  },
  {
   "cell_type": "code",
   "execution_count": 788,
   "id": "05baf275",
   "metadata": {},
   "outputs": [],
   "source": [
    "log_model = LogisticRegression()"
   ]
  },
  {
   "cell_type": "code",
   "execution_count": 789,
   "id": "10e91d43",
   "metadata": {},
   "outputs": [
    {
     "data": {
      "text/html": [
       "<style>#sk-container-id-10 {color: black;background-color: white;}#sk-container-id-10 pre{padding: 0;}#sk-container-id-10 div.sk-toggleable {background-color: white;}#sk-container-id-10 label.sk-toggleable__label {cursor: pointer;display: block;width: 100%;margin-bottom: 0;padding: 0.3em;box-sizing: border-box;text-align: center;}#sk-container-id-10 label.sk-toggleable__label-arrow:before {content: \"▸\";float: left;margin-right: 0.25em;color: #696969;}#sk-container-id-10 label.sk-toggleable__label-arrow:hover:before {color: black;}#sk-container-id-10 div.sk-estimator:hover label.sk-toggleable__label-arrow:before {color: black;}#sk-container-id-10 div.sk-toggleable__content {max-height: 0;max-width: 0;overflow: hidden;text-align: left;background-color: #f0f8ff;}#sk-container-id-10 div.sk-toggleable__content pre {margin: 0.2em;color: black;border-radius: 0.25em;background-color: #f0f8ff;}#sk-container-id-10 input.sk-toggleable__control:checked~div.sk-toggleable__content {max-height: 200px;max-width: 100%;overflow: auto;}#sk-container-id-10 input.sk-toggleable__control:checked~label.sk-toggleable__label-arrow:before {content: \"▾\";}#sk-container-id-10 div.sk-estimator input.sk-toggleable__control:checked~label.sk-toggleable__label {background-color: #d4ebff;}#sk-container-id-10 div.sk-label input.sk-toggleable__control:checked~label.sk-toggleable__label {background-color: #d4ebff;}#sk-container-id-10 input.sk-hidden--visually {border: 0;clip: rect(1px 1px 1px 1px);clip: rect(1px, 1px, 1px, 1px);height: 1px;margin: -1px;overflow: hidden;padding: 0;position: absolute;width: 1px;}#sk-container-id-10 div.sk-estimator {font-family: monospace;background-color: #f0f8ff;border: 1px dotted black;border-radius: 0.25em;box-sizing: border-box;margin-bottom: 0.5em;}#sk-container-id-10 div.sk-estimator:hover {background-color: #d4ebff;}#sk-container-id-10 div.sk-parallel-item::after {content: \"\";width: 100%;border-bottom: 1px solid gray;flex-grow: 1;}#sk-container-id-10 div.sk-label:hover label.sk-toggleable__label {background-color: #d4ebff;}#sk-container-id-10 div.sk-serial::before {content: \"\";position: absolute;border-left: 1px solid gray;box-sizing: border-box;top: 0;bottom: 0;left: 50%;z-index: 0;}#sk-container-id-10 div.sk-serial {display: flex;flex-direction: column;align-items: center;background-color: white;padding-right: 0.2em;padding-left: 0.2em;position: relative;}#sk-container-id-10 div.sk-item {position: relative;z-index: 1;}#sk-container-id-10 div.sk-parallel {display: flex;align-items: stretch;justify-content: center;background-color: white;position: relative;}#sk-container-id-10 div.sk-item::before, #sk-container-id-10 div.sk-parallel-item::before {content: \"\";position: absolute;border-left: 1px solid gray;box-sizing: border-box;top: 0;bottom: 0;left: 50%;z-index: -1;}#sk-container-id-10 div.sk-parallel-item {display: flex;flex-direction: column;z-index: 1;position: relative;background-color: white;}#sk-container-id-10 div.sk-parallel-item:first-child::after {align-self: flex-end;width: 50%;}#sk-container-id-10 div.sk-parallel-item:last-child::after {align-self: flex-start;width: 50%;}#sk-container-id-10 div.sk-parallel-item:only-child::after {width: 0;}#sk-container-id-10 div.sk-dashed-wrapped {border: 1px dashed gray;margin: 0 0.4em 0.5em 0.4em;box-sizing: border-box;padding-bottom: 0.4em;background-color: white;}#sk-container-id-10 div.sk-label label {font-family: monospace;font-weight: bold;display: inline-block;line-height: 1.2em;}#sk-container-id-10 div.sk-label-container {text-align: center;}#sk-container-id-10 div.sk-container {/* jupyter's `normalize.less` sets `[hidden] { display: none; }` but bootstrap.min.css set `[hidden] { display: none !important; }` so we also need the `!important` here to be able to override the default hidden behavior on the sphinx rendered scikit-learn.org. See: https://github.com/scikit-learn/scikit-learn/issues/21755 */display: inline-block !important;position: relative;}#sk-container-id-10 div.sk-text-repr-fallback {display: none;}</style><div id=\"sk-container-id-10\" class=\"sk-top-container\"><div class=\"sk-text-repr-fallback\"><pre>LogisticRegression()</pre><b>In a Jupyter environment, please rerun this cell to show the HTML representation or trust the notebook. <br />On GitHub, the HTML representation is unable to render, please try loading this page with nbviewer.org.</b></div><div class=\"sk-container\" hidden><div class=\"sk-item\"><div class=\"sk-estimator sk-toggleable\"><input class=\"sk-toggleable__control sk-hidden--visually\" id=\"sk-estimator-id-20\" type=\"checkbox\" checked><label for=\"sk-estimator-id-20\" class=\"sk-toggleable__label sk-toggleable__label-arrow\">LogisticRegression</label><div class=\"sk-toggleable__content\"><pre>LogisticRegression()</pre></div></div></div></div></div>"
      ],
      "text/plain": [
       "LogisticRegression()"
      ]
     },
     "execution_count": 789,
     "metadata": {},
     "output_type": "execute_result"
    }
   ],
   "source": [
    "log_model.fit(x_train, y_train)"
   ]
  },
  {
   "cell_type": "code",
   "execution_count": 790,
   "id": "2714cf05",
   "metadata": {},
   "outputs": [],
   "source": [
    "# linear_reg_pip.fit(x_train,y_train)"
   ]
  },
  {
   "cell_type": "markdown",
   "id": "1479145d",
   "metadata": {},
   "source": [
    "### Evalution Matrix : "
   ]
  },
  {
   "cell_type": "code",
   "execution_count": 791,
   "id": "aa4cbc57",
   "metadata": {},
   "outputs": [
    {
     "name": "stdout",
     "output_type": "stream",
     "text": [
      "Confusion Matrix : \n",
      " [[4084 1390]\n",
      " [1316 4159]]\n",
      "Classification Table \n",
      "               precision    recall  f1-score   support\n",
      "\n",
      "           0       0.76      0.75      0.75      5474\n",
      "           1       0.75      0.76      0.75      5475\n",
      "\n",
      "    accuracy                           0.75     10949\n",
      "   macro avg       0.75      0.75      0.75     10949\n",
      "weighted avg       0.75      0.75      0.75     10949\n",
      "\n",
      "Confusion Matrix : \n",
      " [[16592  5307]\n",
      " [ 5253 16645]]\n",
      "Classification Table \n",
      "               precision    recall  f1-score   support\n",
      "\n",
      "           0       0.76      0.76      0.76     21899\n",
      "           1       0.76      0.76      0.76     21898\n",
      "\n",
      "    accuracy                           0.76     43797\n",
      "   macro avg       0.76      0.76      0.76     43797\n",
      "weighted avg       0.76      0.76      0.76     43797\n",
      "\n"
     ]
    }
   ],
   "source": [
    "############### Training ##############################\n",
    "\n",
    "y_pred_train =log_model.predict(x_train)\n",
    "\n",
    "print(\"Confusion Matrix : \\n\",confusion_matrix(y_train, y_pred_train))\n",
    "print(\"Classification Table \\n\", classification_report(y_train, y_pred_train))\n",
    "\n",
    "y_test_pred = log_model.predict(x_test)\n",
    "print(\"Confusion Matrix : \\n\",confusion_matrix(y_test, y_test_pred))\n",
    "print(\"Classification Table \\n\", classification_report(y_test, y_test_pred))\n"
   ]
  },
  {
   "cell_type": "markdown",
   "id": "023dfa36",
   "metadata": {},
   "source": [
    "### HyperParameter tunning "
   ]
  },
  {
   "cell_type": "code",
   "execution_count": 792,
   "id": "57d13309",
   "metadata": {},
   "outputs": [],
   "source": [
    "model = LogisticRegression()\n",
    "solvers = ['newton-cg', 'lbfgs', 'liblinear']\n",
    "penalty = ['l2']\n",
    "c_values = [100, 10, 1.0, 0.1, 0.01]\n",
    "cv = RepeatedStratifiedKFold(n_splits=10, n_repeats=3, random_state=1)\n",
    "\n",
    "grid = dict(solver=solvers,penalty=penalty,C=c_values)\n",
    "grid_search = GridSearchCV(estimator=model, param_grid=grid, n_jobs=-1, cv=cv, scoring='accuracy',error_score=0)\n",
    "grid_result = grid_search.fit(x_train, y_train)"
   ]
  },
  {
   "cell_type": "code",
   "execution_count": 793,
   "id": "c04a931a",
   "metadata": {},
   "outputs": [
    {
     "data": {
      "text/html": [
       "<style>#sk-container-id-11 {color: black;background-color: white;}#sk-container-id-11 pre{padding: 0;}#sk-container-id-11 div.sk-toggleable {background-color: white;}#sk-container-id-11 label.sk-toggleable__label {cursor: pointer;display: block;width: 100%;margin-bottom: 0;padding: 0.3em;box-sizing: border-box;text-align: center;}#sk-container-id-11 label.sk-toggleable__label-arrow:before {content: \"▸\";float: left;margin-right: 0.25em;color: #696969;}#sk-container-id-11 label.sk-toggleable__label-arrow:hover:before {color: black;}#sk-container-id-11 div.sk-estimator:hover label.sk-toggleable__label-arrow:before {color: black;}#sk-container-id-11 div.sk-toggleable__content {max-height: 0;max-width: 0;overflow: hidden;text-align: left;background-color: #f0f8ff;}#sk-container-id-11 div.sk-toggleable__content pre {margin: 0.2em;color: black;border-radius: 0.25em;background-color: #f0f8ff;}#sk-container-id-11 input.sk-toggleable__control:checked~div.sk-toggleable__content {max-height: 200px;max-width: 100%;overflow: auto;}#sk-container-id-11 input.sk-toggleable__control:checked~label.sk-toggleable__label-arrow:before {content: \"▾\";}#sk-container-id-11 div.sk-estimator input.sk-toggleable__control:checked~label.sk-toggleable__label {background-color: #d4ebff;}#sk-container-id-11 div.sk-label input.sk-toggleable__control:checked~label.sk-toggleable__label {background-color: #d4ebff;}#sk-container-id-11 input.sk-hidden--visually {border: 0;clip: rect(1px 1px 1px 1px);clip: rect(1px, 1px, 1px, 1px);height: 1px;margin: -1px;overflow: hidden;padding: 0;position: absolute;width: 1px;}#sk-container-id-11 div.sk-estimator {font-family: monospace;background-color: #f0f8ff;border: 1px dotted black;border-radius: 0.25em;box-sizing: border-box;margin-bottom: 0.5em;}#sk-container-id-11 div.sk-estimator:hover {background-color: #d4ebff;}#sk-container-id-11 div.sk-parallel-item::after {content: \"\";width: 100%;border-bottom: 1px solid gray;flex-grow: 1;}#sk-container-id-11 div.sk-label:hover label.sk-toggleable__label {background-color: #d4ebff;}#sk-container-id-11 div.sk-serial::before {content: \"\";position: absolute;border-left: 1px solid gray;box-sizing: border-box;top: 0;bottom: 0;left: 50%;z-index: 0;}#sk-container-id-11 div.sk-serial {display: flex;flex-direction: column;align-items: center;background-color: white;padding-right: 0.2em;padding-left: 0.2em;position: relative;}#sk-container-id-11 div.sk-item {position: relative;z-index: 1;}#sk-container-id-11 div.sk-parallel {display: flex;align-items: stretch;justify-content: center;background-color: white;position: relative;}#sk-container-id-11 div.sk-item::before, #sk-container-id-11 div.sk-parallel-item::before {content: \"\";position: absolute;border-left: 1px solid gray;box-sizing: border-box;top: 0;bottom: 0;left: 50%;z-index: -1;}#sk-container-id-11 div.sk-parallel-item {display: flex;flex-direction: column;z-index: 1;position: relative;background-color: white;}#sk-container-id-11 div.sk-parallel-item:first-child::after {align-self: flex-end;width: 50%;}#sk-container-id-11 div.sk-parallel-item:last-child::after {align-self: flex-start;width: 50%;}#sk-container-id-11 div.sk-parallel-item:only-child::after {width: 0;}#sk-container-id-11 div.sk-dashed-wrapped {border: 1px dashed gray;margin: 0 0.4em 0.5em 0.4em;box-sizing: border-box;padding-bottom: 0.4em;background-color: white;}#sk-container-id-11 div.sk-label label {font-family: monospace;font-weight: bold;display: inline-block;line-height: 1.2em;}#sk-container-id-11 div.sk-label-container {text-align: center;}#sk-container-id-11 div.sk-container {/* jupyter's `normalize.less` sets `[hidden] { display: none; }` but bootstrap.min.css set `[hidden] { display: none !important; }` so we also need the `!important` here to be able to override the default hidden behavior on the sphinx rendered scikit-learn.org. See: https://github.com/scikit-learn/scikit-learn/issues/21755 */display: inline-block !important;position: relative;}#sk-container-id-11 div.sk-text-repr-fallback {display: none;}</style><div id=\"sk-container-id-11\" class=\"sk-top-container\"><div class=\"sk-text-repr-fallback\"><pre>LogisticRegression(solver=&#x27;liblinear&#x27;)</pre><b>In a Jupyter environment, please rerun this cell to show the HTML representation or trust the notebook. <br />On GitHub, the HTML representation is unable to render, please try loading this page with nbviewer.org.</b></div><div class=\"sk-container\" hidden><div class=\"sk-item\"><div class=\"sk-estimator sk-toggleable\"><input class=\"sk-toggleable__control sk-hidden--visually\" id=\"sk-estimator-id-21\" type=\"checkbox\" checked><label for=\"sk-estimator-id-21\" class=\"sk-toggleable__label sk-toggleable__label-arrow\">LogisticRegression</label><div class=\"sk-toggleable__content\"><pre>LogisticRegression(solver=&#x27;liblinear&#x27;)</pre></div></div></div></div></div>"
      ],
      "text/plain": [
       "LogisticRegression(solver='liblinear')"
      ]
     },
     "execution_count": 793,
     "metadata": {},
     "output_type": "execute_result"
    }
   ],
   "source": [
    "model  =grid_result.best_estimator_\n",
    "model.fit(x_train, y_train)"
   ]
  },
  {
   "cell_type": "code",
   "execution_count": 794,
   "id": "3c76dbae",
   "metadata": {},
   "outputs": [
    {
     "name": "stdout",
     "output_type": "stream",
     "text": [
      "Confusion Matrix : \n",
      " [[4095 1379]\n",
      " [1219 4256]]\n",
      "Classification Table \n",
      "               precision    recall  f1-score   support\n",
      "\n",
      "           0       0.77      0.75      0.76      5474\n",
      "           1       0.76      0.78      0.77      5475\n",
      "\n",
      "    accuracy                           0.76     10949\n",
      "   macro avg       0.76      0.76      0.76     10949\n",
      "weighted avg       0.76      0.76      0.76     10949\n",
      "\n",
      "Confusion Matrix : \n",
      " [[16434  5465]\n",
      " [ 4907 16991]]\n",
      "Classification Table \n",
      "               precision    recall  f1-score   support\n",
      "\n",
      "           0       0.77      0.75      0.76     21899\n",
      "           1       0.76      0.78      0.77     21898\n",
      "\n",
      "    accuracy                           0.76     43797\n",
      "   macro avg       0.76      0.76      0.76     43797\n",
      "weighted avg       0.76      0.76      0.76     43797\n",
      "\n"
     ]
    }
   ],
   "source": [
    "y_pred_train =model.predict(x_train)\n",
    "\n",
    "print(\"Confusion Matrix : \\n\",confusion_matrix(y_train, y_pred_train))\n",
    "print(\"Classification Table \\n\", classification_report(y_train, y_pred_train))\n",
    "\n",
    "y_test_pred = model.predict(x_test)\n",
    "print(\"Confusion Matrix : \\n\",confusion_matrix(y_test, y_test_pred))\n",
    "print(\"Classification Table \\n\", classification_report(y_test, y_test_pred))\n"
   ]
  },
  {
   "cell_type": "code",
   "execution_count": null,
   "id": "6617e0c8",
   "metadata": {},
   "outputs": [],
   "source": []
  },
  {
   "cell_type": "markdown",
   "id": "41928628",
   "metadata": {},
   "source": [
    "# Model file"
   ]
  },
  {
   "cell_type": "code",
   "execution_count": 818,
   "id": "e96e2e2a",
   "metadata": {},
   "outputs": [],
   "source": [
    "with  open('model.pkl', 'wb') as f:\n",
    "    pickle.dump(model,f)"
   ]
  },
  {
   "cell_type": "markdown",
   "id": "f0746e43",
   "metadata": {},
   "source": [
    "# data file "
   ]
  },
  {
   "cell_type": "code",
   "execution_count": 842,
   "id": "fcd506ca",
   "metadata": {},
   "outputs": [],
   "source": [
    "project_data = {'Smoking': {'No': 0, 'Yes': 1},\n",
    "'AlcoholDrinking' :{'No': 0, 'Yes': 1},\n",
    "'Stroke' :{'No':0, 'Yes':1},\n",
    "'DiffWalking': {'No': 0, 'Yes':1},\n",
    "'Sex' : {'Female': 0, 'Male': 1},\n",
    "'PhysicalActivity' : {'Yes':0, 'No':1},\n",
    "'GenHealth': {'Very good': 2,\n",
    " 'Good': 3,\n",
    " 'Excellent': 1,\n",
    " 'Fair': 4,\n",
    " 'Poor': 5},\n",
    "'Asthma': {'No': 0, 'Yes': 1},\n",
    "'KidneyDisease': {'No': 0, 'Yes': 1},\n",
    "'SkinCancer':{'No': 0, 'Yes': 1},\n",
    "'Stroke':{'No':0, 'Yes':1},\n",
    "'data' : ['BMI',\n",
    " 'Smoking',\n",
    " 'AlcoholDrinking',\n",
    " 'Stroke',\n",
    " 'PhysicalHealth',\n",
    " 'MentalHealth',\n",
    " 'DiffWalking',\n",
    " 'Sex',\n",
    " 'AgeCategory',\n",
    " 'PhysicalActivity',\n",
    " 'GenHealth',\n",
    " 'SleepTime',\n",
    " 'Asthma',\n",
    " 'KidneyDisease',\n",
    " 'SkinCancer',\n",
    " 'Race_American Indian/Alaskan Native',\n",
    " 'Race_Asian',\n",
    " 'Race_Black',\n",
    " 'Race_Hispanic',\n",
    " 'Race_Other',\n",
    " 'Race_White',\n",
    " 'Diabetic_No',\n",
    " 'Diabetic_No, borderline diabetes',\n",
    " 'Diabetic_Yes',\n",
    " 'Diabetic_Yes (during pregnancy)']}\n",
    "\n"
   ]
  },
  {
   "cell_type": "code",
   "execution_count": 862,
   "id": "0729000b",
   "metadata": {},
   "outputs": [],
   "source": [
    "with open('pro_data.json', 'w') as f:\n",
    "    json.dump(project_data, f)\n",
    "    "
   ]
  },
  {
   "cell_type": "code",
   "execution_count": 864,
   "id": "58e1248f",
   "metadata": {},
   "outputs": [
    {
     "name": "stdout",
     "output_type": "stream",
     "text": [
      "[array([16.6,  1. ,  0. ,  0. ,  3. , 30. ,  0. ,  0. , 56. ,  0. ,  2. ,\n",
      "        5. ,  0. ,  1. ,  0. ,  0. ,  0. ,  0. ,  0. ,  0. ,  1. ,  0. ,\n",
      "        0. ,  1. ,  0. ])]\n"
     ]
    },
    {
     "data": {
      "text/plain": [
       "1"
      ]
     },
     "execution_count": 864,
     "metadata": {},
     "output_type": "execute_result"
    }
   ],
   "source": [
    "BMI =16.6\n",
    "Smoking ='Yes'\n",
    "AlcoholDrinking ='No'\n",
    "Stroke = 'No' \n",
    "PhysicalHealth = 3\n",
    "MentalHealth = 30\n",
    "DiffWalking = 'No'\n",
    "Sex ='Female'\n",
    "AgeCategory =56\n",
    "Race ='White'\n",
    "Diabetic ='Yes'\n",
    "PhysicalActivity ='Yes'\n",
    "GenHealth  ='Very good'\n",
    "SleepTime =5\n",
    "Asthma ='No'\n",
    "KidneyDisease ='Yes'\n",
    "SkinCancer = 'No'\n",
    "\n",
    "\n",
    "features = np.zeros( len(project_data['data']))\n",
    "x1 = \"Race_\"+Race\n",
    "index1 = project_data['data'].index(x1)\n",
    "x2 = \"Diabetic_\"+ Diabetic\n",
    "index2 = project_data['data'].index(x2)\n",
    "\n",
    "\n",
    "features[0]=BMI\n",
    "features[1]=project_data['Smoking'][Smoking]  \n",
    "features[2]=project_data['AlcoholDrinking'][AlcoholDrinking] \n",
    "features[3]=project_data['Stroke'][Stroke] \n",
    "features[4]=PhysicalHealth \n",
    "features[5]= MentalHealth\n",
    "features[6]= project_data['DiffWalking'][DiffWalking] \n",
    "features[7]= project_data['Sex'][Sex]\n",
    "features[8]= AgeCategory \n",
    "\n",
    "features[9]= project_data['PhysicalActivity'][PhysicalActivity] \n",
    "features[10]= project_data['GenHealth'][GenHealth] \n",
    "features[11]= SleepTime \n",
    "features[12]= project_data['Asthma'][Asthma]\n",
    "features[13]= project_data['KidneyDisease'][KidneyDisease]\n",
    "features[14]= project_data['SkinCancer'][SkinCancer]\n",
    "features[index1]= 1 \n",
    "features[index2]= 1\n",
    "print([features])\n",
    "\n",
    "model.predict([features])[0]"
   ]
  },
  {
   "cell_type": "code",
   "execution_count": 863,
   "id": "563cb50f",
   "metadata": {},
   "outputs": [],
   "source": [
    "import gzip, pickle\n",
    "\n",
    "with  open('model.pklz', 'wb') as f:\n",
    "    pickle.dump(model,f)"
   ]
  },
  {
   "cell_type": "code",
   "execution_count": null,
   "id": "26c4a11a",
   "metadata": {},
   "outputs": [],
   "source": []
  },
  {
   "cell_type": "code",
   "execution_count": null,
   "id": "dca841e2",
   "metadata": {},
   "outputs": [],
   "source": []
  }
 ],
 "metadata": {
  "kernelspec": {
   "display_name": "Python 3 (ipykernel)",
   "language": "python",
   "name": "python3"
  },
  "language_info": {
   "codemirror_mode": {
    "name": "ipython",
    "version": 3
   },
   "file_extension": ".py",
   "mimetype": "text/x-python",
   "name": "python",
   "nbconvert_exporter": "python",
   "pygments_lexer": "ipython3",
   "version": "3.10.7"
  }
 },
 "nbformat": 4,
 "nbformat_minor": 5
}
